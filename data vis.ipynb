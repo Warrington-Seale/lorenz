{
 "cells": [
  {
   "cell_type": "code",
   "execution_count": 1,
   "metadata": {
    "scrolled": true
   },
   "outputs": [],
   "source": [
    "import matplotlib.pyplot as plt\n",
    "import pandas as pd\n",
    "import seaborn as sns\n",
    "import matplotlib as mpl\n",
    "\n",
    "mpl.use('agg')\n",
    "sns.set()\n",
    "df = pd.read_csv('./data')\n",
    "\n",
    "\n"
   ]
  },
  {
   "cell_type": "code",
   "execution_count": 2,
   "metadata": {},
   "outputs": [
    {
     "data": {
      "text/html": [
       "<div>\n",
       "<style scoped>\n",
       "    .dataframe tbody tr th:only-of-type {\n",
       "        vertical-align: middle;\n",
       "    }\n",
       "\n",
       "    .dataframe tbody tr th {\n",
       "        vertical-align: top;\n",
       "    }\n",
       "\n",
       "    .dataframe thead th {\n",
       "        text-align: right;\n",
       "    }\n",
       "</style>\n",
       "<table border=\"1\" class=\"dataframe\">\n",
       "  <thead>\n",
       "    <tr style=\"text-align: right;\">\n",
       "      <th></th>\n",
       "      <th>Unnamed: 0</th>\n",
       "      <th>t</th>\n",
       "      <th>x</th>\n",
       "      <th>y</th>\n",
       "      <th>z</th>\n",
       "      <th>x_dot</th>\n",
       "      <th>y_dot</th>\n",
       "      <th>z_dot</th>\n",
       "    </tr>\n",
       "  </thead>\n",
       "  <tbody>\n",
       "    <tr>\n",
       "      <th>0</th>\n",
       "      <td>0.0</td>\n",
       "      <td>0.0</td>\n",
       "      <td>-18.997091</td>\n",
       "      <td>-24.930755</td>\n",
       "      <td>0.001338</td>\n",
       "      <td>-240.316779</td>\n",
       "      <td>-540.543623</td>\n",
       "      <td>-268.793798</td>\n",
       "    </tr>\n",
       "  </tbody>\n",
       "</table>\n",
       "</div>"
      ],
      "text/plain": [
       "   Unnamed: 0    t          x          y         z       x_dot       y_dot  \\\n",
       "0         0.0  0.0 -18.997091 -24.930755  0.001338 -240.316779 -540.543623   \n",
       "\n",
       "        z_dot  \n",
       "0 -268.793798  "
      ]
     },
     "execution_count": 2,
     "metadata": {},
     "output_type": "execute_result"
    }
   ],
   "source": [
    "df.min().to_frame().T\n"
   ]
  },
  {
   "cell_type": "code",
   "execution_count": 3,
   "metadata": {},
   "outputs": [
    {
     "data": {
      "text/html": [
       "<div>\n",
       "<style scoped>\n",
       "    .dataframe tbody tr th:only-of-type {\n",
       "        vertical-align: middle;\n",
       "    }\n",
       "\n",
       "    .dataframe tbody tr th {\n",
       "        vertical-align: top;\n",
       "    }\n",
       "\n",
       "    .dataframe thead th {\n",
       "        text-align: right;\n",
       "    }\n",
       "</style>\n",
       "<table border=\"1\" class=\"dataframe\">\n",
       "  <thead>\n",
       "    <tr style=\"text-align: right;\">\n",
       "      <th></th>\n",
       "      <th>Unnamed: 0</th>\n",
       "      <th>t</th>\n",
       "      <th>x</th>\n",
       "      <th>y</th>\n",
       "      <th>z</th>\n",
       "      <th>x_dot</th>\n",
       "      <th>y_dot</th>\n",
       "      <th>z_dot</th>\n",
       "    </tr>\n",
       "  </thead>\n",
       "  <tbody>\n",
       "    <tr>\n",
       "      <th>0</th>\n",
       "      <td>10000.0</td>\n",
       "      <td>10.0</td>\n",
       "      <td>21.520785</td>\n",
       "      <td>29.483224</td>\n",
       "      <td>54.270197</td>\n",
       "      <td>177.803448</td>\n",
       "      <td>373.548353</td>\n",
       "      <td>470.443004</td>\n",
       "    </tr>\n",
       "  </tbody>\n",
       "</table>\n",
       "</div>"
      ],
      "text/plain": [
       "   Unnamed: 0     t          x          y          z       x_dot       y_dot  \\\n",
       "0     10000.0  10.0  21.520785  29.483224  54.270197  177.803448  373.548353   \n",
       "\n",
       "        z_dot  \n",
       "0  470.443004  "
      ]
     },
     "execution_count": 3,
     "metadata": {},
     "output_type": "execute_result"
    }
   ],
   "source": [
    "df.max().to_frame().T"
   ]
  },
  {
   "cell_type": "code",
   "execution_count": 31,
   "metadata": {},
   "outputs": [
    {
     "name": "stdout",
     "output_type": "stream",
     "text": [
      "10000of10000 \r"
     ]
    }
   ],
   "source": [
    "for t in df['Unnamed: 0']:\n",
    "\n",
    "    fig = plt.figure(figsize=(5, 5))\n",
    "    ax = fig.add_subplot(111, projection = '3d')\n",
    "    \n",
    "    ax.set_xlim3d([-20, 20])\n",
    "    ax.set_ylim3d([-25, 30])\n",
    "    ax.set_zlim3d([0, 55])\n",
    "    \n",
    "    x = df['x'].head(t)\n",
    "    y = df['y'].head(t)\n",
    "    z = df['z'].head(t)\n",
    "    \n",
    "    ax.set_title('t= {:0.3f}'.format(float(t)/1000))\n",
    "    ax.set_xlabel(\"x\")\n",
    "    ax.set_ylabel(\"y\")\n",
    "    ax.set_zlabel(\"z\")\n",
    "\n",
    "    ax.plot(x, y, z, 'b-', alpha=0.3, markersize = 2, marker='.', markerfacecolor=(1, 0, 0, 1), mec='red', markevery=[-1, 0], lw=0.5)\n",
    "    ax.view_init(30, 0.1*t)\n",
    "    fig.savefig('./imgs/{:05d}.jpg'.format(t), dpi=256)\n",
    "    plt.close()\n",
    "    print(\"{}of{} \\r\".format(t,10000), end=\"\")"
   ]
  },
  {
   "cell_type": "code",
   "execution_count": null,
   "metadata": {},
   "outputs": [],
   "source": [
    "t='max'\n",
    "\n",
    "fig.savefig('./imgs/0.png', bbox_inches = 'tight', pad_inches=2)\n"
   ]
  },
  {
   "cell_type": "code",
   "execution_count": null,
   "metadata": {},
   "outputs": [],
   "source": []
  }
 ],
 "metadata": {
  "kernelspec": {
   "display_name": "Python 3",
   "language": "python",
   "name": "python3"
  },
  "language_info": {
   "codemirror_mode": {
    "name": "ipython",
    "version": 3
   },
   "file_extension": ".py",
   "mimetype": "text/x-python",
   "name": "python",
   "nbconvert_exporter": "python",
   "pygments_lexer": "ipython3",
   "version": "3.9.7"
  }
 },
 "nbformat": 4,
 "nbformat_minor": 4
}
